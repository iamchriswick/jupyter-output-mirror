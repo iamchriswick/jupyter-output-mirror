{
 "cells": [
  {
   "cell_type": "markdown",
   "id": "ff53ce27",
   "metadata": {},
   "source": [
    "# Jupyter Output Mirror Demo\n",
    "\n",
    "This notebook demonstrates the Jupyter Output Mirror extension functionality.\n",
    "\n",
    "**Instructions:**\n",
    "\n",
    "1. Make sure the Jupyter Output Mirror extension is active\n",
    "2. Run the code cell below\n",
    "3. Check the \"Jupyter Stdout/Stderr\" output channel to see mirrored outputs\n",
    "4. Try different settings in VS Code settings (search for \"Jupyter Output Mirror\")\n"
   ]
  },
  {
   "cell_type": "code",
   "execution_count": null,
   "id": "847264a2",
   "metadata": {},
   "outputs": [],
   "source": [
    "import sys\n",
    "import time\n",
    "\n",
    "print(\"hello stdout\")\n",
    "sys.stderr.write(\"hello stderr\\n\")\n",
    "for i in range(3):\n",
    "    print(f\"tick {i} : {time.sleep(0.25)}\")\n"
   ]
  },
  {
   "cell_type": "code",
   "execution_count": null,
   "id": "238d938f",
   "metadata": {},
   "outputs": [],
   "source": [
    "# Additional test: Multiple output types\n",
    "import sys\n",
    "import json\n",
    "\n",
    "print(\"=== Testing different output types ===\")\n",
    "print(\"Standard output line 1\")\n",
    "print(\"Standard output line 2\")\n",
    "\n",
    "sys.stderr.write(\"Error message 1\\n\")\n",
    "sys.stderr.write(\"Error message 2\\n\")\n",
    "\n",
    "# Display some data\n",
    "data = {\"status\": \"success\", \"count\": 42, \"items\": [\"apple\", \"banana\", \"cherry\"]}\n",
    "print(\"JSON data:\")\n",
    "print(json.dumps(data, indent=2))\n"
   ]
  },
  {
   "cell_type": "code",
   "execution_count": null,
   "id": "8eb0604d",
   "metadata": {},
   "outputs": [],
   "source": [
    "# Test: Progress indicators and streaming output\n",
    "import time\n",
    "import sys\n",
    "\n",
    "print(\"=== Testing streaming output ===\")\n",
    "for i in range(5):\n",
    "    print(f\"Processing step {i+1}/5...\", end=\"\")\n",
    "    time.sleep(0.5)\n",
    "    print(\" ✓ Complete\")\n",
    "    \n",
    "    if i == 2:\n",
    "        sys.stderr.write(\"Warning: This is a test warning\\n\")\n",
    "\n",
    "print(\"\\n🎉 All tests completed!\")\n",
    "print(\"Check the 'Jupyter Stdout/Stderr' output channel to see all mirrored outputs.\")\n"
   ]
  }
 ],
 "metadata": {
  "kernelspec": {
   "display_name": "jupyter-output-mirror",
   "language": "python",
   "name": "python3"
  },
  "language_info": {
   "codemirror_mode": {
    "name": "ipython",
    "version": 3
   },
   "file_extension": ".py",
   "mimetype": "text/x-python",
   "name": "python",
   "nbconvert_exporter": "python",
   "pygments_lexer": "ipython3",
   "version": "3.12.7"
  }
 },
 "nbformat": 4,
 "nbformat_minor": 5
}
